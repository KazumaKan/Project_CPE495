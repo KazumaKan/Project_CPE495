{
 "cells": [
  {
   "cell_type": "code",
   "execution_count": 1,
   "metadata": {},
   "outputs": [
    {
     "name": "stdout",
     "output_type": "stream",
     "text": [
      "ค่า CO2 ที่ทำนายสำหรับ 7 วันข้างหน้า (ค่าเฉลี่ยรายวัน):\n",
      "วันที่ 13-03-2025: 411.53\n",
      "วันที่ 14-03-2025: 411.53\n",
      "วันที่ 15-03-2025: 411.53\n",
      "วันที่ 16-03-2025: 411.53\n",
      "วันที่ 17-03-2025: 411.53\n",
      "วันที่ 18-03-2025: 411.53\n",
      "วันที่ 19-03-2025: 411.53\n"
     ]
    }
   ],
   "source": [
    "import pandas as pd\n",
    "import numpy as np\n",
    "import os\n",
    "import joblib\n",
    "from sklearn.preprocessing import StandardScaler\n",
    "from datetime import timedelta\n",
    "\n",
    "# โหลดข้อมูล\n",
    "DATA_PATH = os.path.join(\"..\", \"DataSet\", \"Air_quality_cleaned_v1.csv\")\n",
    "df = pd.read_csv(DATA_PATH)\n",
    "\n",
    "# เลือกคอลัมน์\n",
    "df = df[['Date', 'Time', 'Temp', 'Humidity','PM2.5', 'VOC', 'CO2', 'HCHO']]\n",
    "\n",
    "# จัดการ Missing Values\n",
    "numeric_cols = df.select_dtypes(include=np.number).columns\n",
    "df[numeric_cols] = df[numeric_cols].fillna(df[numeric_cols].mean())\n",
    "\n",
    "# โหลดโมเดลและ Scaler\n",
    "rf = joblib.load(\"random_forest_model.pkl\")\n",
    "scaler = joblib.load(\"Radom.pkl\")\n",
    "\n",
    "# แปลงคอลัมน์ 'Date' เป็น datetime\n",
    "df['Date'] = pd.to_datetime(df['Date'])\n",
    "\n",
    "# คำนวณค่าเฉลี่ยรายวัน\n",
    "df_daily = df.groupby(df['Date'].dt.date)[['PM2.5', 'VOC', 'Temp', 'Humidity', 'HCHO']].mean()\n",
    "\n",
    "# เลือก 7 วันล่าสุด\n",
    "last_7_days = df_daily.tail(7)\n",
    "\n",
    "# คำนวณค่าเฉลี่ยของ 7 วันล่าสุด\n",
    "average_last_7_days = last_7_days.mean()\n",
    "\n",
    "# สร้าง DataFrame สำหรับ 7 วันข้างหน้า\n",
    "current_date = df['Date'].dt.date.max()\n",
    "future_dates = [current_date + timedelta(days=i) for i in range(1, 8)]\n",
    "future_df = pd.DataFrame([average_last_7_days.values] * 7, index=future_dates, columns=average_last_7_days.index)\n",
    "\n",
    "# Scaling ข้อมูล 7 วันข้างหน้า\n",
    "future_scaled = scaler.transform(future_df)\n",
    "\n",
    "# ทำนายค่า CO2 สำหรับ 7 วันข้างหน้า\n",
    "predicted_co2_future = rf.predict(future_scaled)\n",
    "\n",
    "# แปลงวันที่เป็นรูปแบบ DD-MM-YYYY\n",
    "future_dates_formatted = [date.strftime('%d-%m-%Y') for date in future_dates]\n",
    "\n",
    "# แสดงผลการทำนายและวันที่\n",
    "print(\"ค่า CO2 ที่ทำนายสำหรับ 7 วันข้างหน้า (ค่าเฉลี่ยรายวัน):\")\n",
    "for i, (date, prediction) in enumerate(zip(future_dates_formatted, predicted_co2_future)):\n",
    "    print(f\"วันที่ {date}: {prediction:.2f}\")"
   ]
  }
 ],
 "metadata": {
  "kernelspec": {
   "display_name": "base",
   "language": "python",
   "name": "python3"
  },
  "language_info": {
   "codemirror_mode": {
    "name": "ipython",
    "version": 3
   },
   "file_extension": ".py",
   "mimetype": "text/x-python",
   "name": "python",
   "nbconvert_exporter": "python",
   "pygments_lexer": "ipython3",
   "version": "3.12.7"
  }
 },
 "nbformat": 4,
 "nbformat_minor": 2
}
