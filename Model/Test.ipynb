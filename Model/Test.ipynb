{
 "cells": [
  {
   "cell_type": "code",
   "execution_count": 2,
   "metadata": {},
   "outputs": [
    {
     "name": "stderr",
     "output_type": "stream",
     "text": [
      "2025-03-27 14:19:56.656 Thread 'MainThread': missing ScriptRunContext! This warning can be ignored when running in bare mode.\n",
      "2025-03-27 14:19:56.658 Thread 'MainThread': missing ScriptRunContext! This warning can be ignored when running in bare mode.\n",
      "2025-03-27 14:19:56.659 Thread 'MainThread': missing ScriptRunContext! This warning can be ignored when running in bare mode.\n",
      "2025-03-27 14:19:56.660 Thread 'MainThread': missing ScriptRunContext! This warning can be ignored when running in bare mode.\n",
      "2025-03-27 14:19:56.661 Thread 'MainThread': missing ScriptRunContext! This warning can be ignored when running in bare mode.\n",
      "2025-03-27 14:19:56.663 Thread 'MainThread': missing ScriptRunContext! This warning can be ignored when running in bare mode.\n",
      "2025-03-27 14:19:56.665 Thread 'MainThread': missing ScriptRunContext! This warning can be ignored when running in bare mode.\n",
      "2025-03-27 14:19:56.666 Thread 'MainThread': missing ScriptRunContext! This warning can be ignored when running in bare mode.\n",
      "2025-03-27 14:19:56.668 Thread 'MainThread': missing ScriptRunContext! This warning can be ignored when running in bare mode.\n",
      "2025-03-27 14:19:56.670 Thread 'MainThread': missing ScriptRunContext! This warning can be ignored when running in bare mode.\n",
      "2025-03-27 14:19:56.672 Thread 'MainThread': missing ScriptRunContext! This warning can be ignored when running in bare mode.\n",
      "2025-03-27 14:19:56.673 Thread 'MainThread': missing ScriptRunContext! This warning can be ignored when running in bare mode.\n",
      "2025-03-27 14:19:56.674 Thread 'MainThread': missing ScriptRunContext! This warning can be ignored when running in bare mode.\n",
      "2025-03-27 14:19:56.675 Thread 'MainThread': missing ScriptRunContext! This warning can be ignored when running in bare mode.\n",
      "2025-03-27 14:19:56.676 Thread 'MainThread': missing ScriptRunContext! This warning can be ignored when running in bare mode.\n",
      "2025-03-27 14:19:56.677 Thread 'MainThread': missing ScriptRunContext! This warning can be ignored when running in bare mode.\n",
      "2025-03-27 14:19:56.678 Thread 'MainThread': missing ScriptRunContext! This warning can be ignored when running in bare mode.\n",
      "2025-03-27 14:19:56.679 Thread 'MainThread': missing ScriptRunContext! This warning can be ignored when running in bare mode.\n",
      "2025-03-27 14:19:56.680 Thread 'MainThread': missing ScriptRunContext! This warning can be ignored when running in bare mode.\n",
      "2025-03-27 14:19:56.681 Thread 'MainThread': missing ScriptRunContext! This warning can be ignored when running in bare mode.\n",
      "2025-03-27 14:19:56.682 Thread 'MainThread': missing ScriptRunContext! This warning can be ignored when running in bare mode.\n",
      "2025-03-27 14:19:56.683 Thread 'MainThread': missing ScriptRunContext! This warning can be ignored when running in bare mode.\n",
      "2025-03-27 14:19:56.684 Thread 'MainThread': missing ScriptRunContext! This warning can be ignored when running in bare mode.\n",
      "2025-03-27 14:19:56.690 Thread 'MainThread': missing ScriptRunContext! This warning can be ignored when running in bare mode.\n",
      "2025-03-27 14:19:56.692 Thread 'MainThread': missing ScriptRunContext! This warning can be ignored when running in bare mode.\n",
      "2025-03-27 14:19:56.693 Thread 'MainThread': missing ScriptRunContext! This warning can be ignored when running in bare mode.\n",
      "2025-03-27 14:19:56.694 Thread 'MainThread': missing ScriptRunContext! This warning can be ignored when running in bare mode.\n",
      "2025-03-27 14:19:57.148 Thread 'MainThread': missing ScriptRunContext! This warning can be ignored when running in bare mode.\n",
      "2025-03-27 14:19:57.149 Thread 'MainThread': missing ScriptRunContext! This warning can be ignored when running in bare mode.\n",
      "2025-03-27 14:19:57.150 Thread 'MainThread': missing ScriptRunContext! This warning can be ignored when running in bare mode.\n",
      "2025-03-27 14:19:57.151 Thread 'MainThread': missing ScriptRunContext! This warning can be ignored when running in bare mode.\n",
      "2025-03-27 14:19:57.156 Thread 'MainThread': missing ScriptRunContext! This warning can be ignored when running in bare mode.\n",
      "2025-03-27 14:19:57.157 Thread 'MainThread': missing ScriptRunContext! This warning can be ignored when running in bare mode.\n",
      "2025-03-27 14:19:57.159 Thread 'MainThread': missing ScriptRunContext! This warning can be ignored when running in bare mode.\n",
      "2025-03-27 14:19:57.160 Thread 'MainThread': missing ScriptRunContext! This warning can be ignored when running in bare mode.\n",
      "2025-03-27 14:19:57.161 Thread 'MainThread': missing ScriptRunContext! This warning can be ignored when running in bare mode.\n",
      "2025-03-27 14:19:57.162 Thread 'MainThread': missing ScriptRunContext! This warning can be ignored when running in bare mode.\n",
      "2025-03-27 14:19:57.163 Thread 'MainThread': missing ScriptRunContext! This warning can be ignored when running in bare mode.\n",
      "2025-03-27 14:19:57.165 Thread 'MainThread': missing ScriptRunContext! This warning can be ignored when running in bare mode.\n"
     ]
    }
   ],
   "source": [
    "import streamlit as st\n",
    "import pandas as pd\n",
    "from sklearn.preprocessing import StandardScaler\n",
    "from sklearn.ensemble import RandomForestRegressor\n",
    "import joblib\n",
    "\n",
    "# สร้าง UI สำหรับเลือกตัวแปรและแสดงผลลัพธ์\n",
    "st.title(\"CO2 Prediction Dashboard\")\n",
    "\n",
    "# เลือกค่าของตัวแปร\n",
    "pm25 = st.slider('PM2.5', min_value=0, max_value=500, value=10)\n",
    "voc = st.slider('VOC', min_value=0, max_value=1000, value=10)\n",
    "temp = st.slider('Temperature (°C)', min_value=-10, max_value=40, value=25)\n",
    "humidity = st.slider('Humidity (%)', min_value=0, max_value=100, value=50)\n",
    "hcho = st.slider('HCHO', min_value=0, max_value=1000, value=50)\n",
    "\n",
    "# สร้าง DataFrame จากค่าที่เลือกและกำหนดชื่อคอลัมน์\n",
    "input_data = pd.DataFrame([[pm25, voc, temp, humidity, hcho]], columns=['PM2.5', 'VOC', 'Temp', 'Humidity', 'HCHO'])\n",
    "\n",
    "# โหลดโมเดลและ Scaler ที่ได้ฝึกไว้\n",
    "scaler = joblib.load('Radom.pkl')  # โหลด scaler ที่ฝึกไว้\n",
    "rf = joblib.load('random_forest_model.pkl')  # โหลดโมเดลที่ฝึกไว้\n",
    "\n",
    "# สเกลข้อมูลโดยใช้ StandardScaler\n",
    "input_scaled = scaler.transform(input_data)\n",
    "\n",
    "# ทำนายค่า CO2\n",
    "predicted_co2 = rf.predict(input_scaled)\n",
    "\n",
    "# แสดงผลลัพธ์\n",
    "# แสดงค่าที่เลือกจาก Slider\n",
    "st.write(f\"PM2.5: {pm25}, VOC: {voc}, Temperature: {temp}, Humidity: {humidity}, HCHO: {hcho}\")\n",
    "# แสดงข้อมูลที่ป้อนเข้าใน DataFrame\n",
    "st.write(f\"Input Data: {input_data}\")\n",
    "st.write(f\"Predicted CO2: {predicted_co2[0]:.2f} ppm\")"
   ]
  }
 ],
 "metadata": {
  "kernelspec": {
   "display_name": "base",
   "language": "python",
   "name": "python3"
  },
  "language_info": {
   "codemirror_mode": {
    "name": "ipython",
    "version": 3
   },
   "file_extension": ".py",
   "mimetype": "text/x-python",
   "name": "python",
   "nbconvert_exporter": "python",
   "pygments_lexer": "ipython3",
   "version": "3.12.7"
  }
 },
 "nbformat": 4,
 "nbformat_minor": 2
}
